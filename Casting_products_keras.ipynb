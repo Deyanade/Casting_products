{
 "cells": [
  {
   "cell_type": "code",
   "execution_count": 123,
   "metadata": {},
   "outputs": [],
   "source": [
    "import keras\n",
    "from keras import layers\n",
    "from keras import models\n",
    "from keras import optimizers\n",
    "from keras.preprocessing.image import ImageDataGenerator\n",
    "import matplotlib.pyplot as plt\n",
    "from glob import glob\n",
    "import pandas as pd\n",
    "import os\n",
    "import numpy as np\n",
    "import tensorflow as tf"
   ]
  },
  {
   "cell_type": "code",
   "execution_count": 124,
   "metadata": {},
   "outputs": [],
   "source": [
    "train_dir = '../Casting_products_keras/dataset/train_data'\n",
    "test_dir = '../Casting_products_keras/dataset/test_data'"
   ]
  },
  {
   "cell_type": "code",
   "execution_count": 125,
   "metadata": {},
   "outputs": [],
   "source": [
    "train_datagen = ImageDataGenerator(\n",
    "    validation_split = 0.1,\n",
    "    rotation_range = 360,\n",
    "    samplewise_center=True,\n",
    "    samplewise_std_normalization=True\n",
    ")"
   ]
  },
  {
   "cell_type": "code",
   "execution_count": 126,
   "metadata": {},
   "outputs": [],
   "source": [
    "batch_size = 32\n",
    "SEED = 256"
   ]
  },
  {
   "cell_type": "code",
   "execution_count": 127,
   "metadata": {},
   "outputs": [
    {
     "name": "stdout",
     "output_type": "stream",
     "text": [
      "Found 225 images belonging to 2 classes.\n",
      "Found 25 images belonging to 2 classes.\n"
     ]
    }
   ],
   "source": [
    "train_generator = train_datagen.flow_from_directory(\n",
    "    train_dir,\n",
    "    target_size = (300, 300),\n",
    "    batch_size = batch_size,\n",
    "    class_mode = 'binary',\n",
    "    subset = 'training'    \n",
    ")\n",
    "\n",
    "valid_generator = train_datagen.flow_from_directory(\n",
    "    train_dir,\n",
    "    target_size = (300, 300),\n",
    "    batch_size = batch_size,\n",
    "    class_mode = 'binary',\n",
    "    subset = 'validation'\n",
    ")"
   ]
  },
  {
   "cell_type": "code",
   "execution_count": 128,
   "metadata": {},
   "outputs": [],
   "source": [
    "from keras import optimizers\n",
    "from tensorflow.keras.optimizers import Adam\n",
    "from keras.models import Sequential\n",
    "from keras.layers import Conv2D, GlobalAveragePooling2D, Activation, Dense\n",
    "from PIL import Image"
   ]
  },
  {
   "cell_type": "code",
   "execution_count": 129,
   "metadata": {},
   "outputs": [],
   "source": [
    "model = Sequential()\n",
    "model.add(layers.Conv2D(16, (3, 3), activation='relu', input_shape=(300, 300, 3)))\n",
    "model.add(layers.MaxPooling2D((2, 2)))\n",
    "model.add(layers.Conv2D(32, (3, 3), activation='relu'))\n",
    "model.add(layers.MaxPooling2D((2, 2)))\n",
    "model.add(layers.Conv2D(16, (3, 3), activation='relu'))\n",
    "model.add(layers.MaxPooling2D((2, 2)))\n",
    "model.add(layers.Flatten())\n",
    "model.add(layers.Dense(512, activation='relu'))\n",
    "model.add(layers.Dense(256, activation='relu'))\n",
    "model.add(layers.Dense(32, activation='relu'))\n",
    "model.add(layers.Dense(1, activation='sigmoid'))"
   ]
  },
  {
   "cell_type": "code",
   "execution_count": 130,
   "metadata": {},
   "outputs": [],
   "source": [
    "model.compile(\n",
    "    optimizer = 'adam',\n",
    "    loss = 'binary_crossentropy',\n",
    "    metrics = ['accuracy']\n",
    ")"
   ]
  },
  {
   "cell_type": "code",
   "execution_count": 131,
   "metadata": {},
   "outputs": [],
   "source": [
    "model_checkpoint = tf.keras.callbacks.ModelCheckpoint(\n",
    "        filepath='best_model_efficnetb3.h5',\n",
    "        save_weights_only=True,\n",
    "        monitor='val_accuracy',\n",
    "        mode='max',\n",
    "        save_best_only=True)\n",
    "early_stopping = tf.keras.callbacks.EarlyStopping(monitor='val_loss', patience=3)"
   ]
  },
  {
   "cell_type": "code",
   "execution_count": 132,
   "metadata": {},
   "outputs": [
    {
     "name": "stdout",
     "output_type": "stream",
     "text": [
      "Epoch 1/25\n",
      "8/8 [==============================] - 103s 6s/step - loss: 1.6884 - accuracy: 0.4444 - val_loss: 0.6658 - val_accuracy: 0.6000\n",
      "Epoch 2/25\n",
      "8/8 [==============================] - 40s 4s/step - loss: 0.6650 - accuracy: 0.6000 - val_loss: 0.6589 - val_accuracy: 0.6000\n",
      "Epoch 3/25\n",
      "8/8 [==============================] - 30s 3s/step - loss: 0.6611 - accuracy: 0.6089 - val_loss: 0.5868 - val_accuracy: 0.6400\n",
      "Epoch 4/25\n",
      "8/8 [==============================] - 34s 4s/step - loss: 0.6127 - accuracy: 0.6800 - val_loss: 0.6205 - val_accuracy: 0.6400\n",
      "Epoch 5/25\n",
      "8/8 [==============================] - 25s 3s/step - loss: 0.6400 - accuracy: 0.6356 - val_loss: 0.5344 - val_accuracy: 0.6400\n",
      "Epoch 6/25\n",
      "8/8 [==============================] - 24s 3s/step - loss: 0.6245 - accuracy: 0.6533 - val_loss: 0.5921 - val_accuracy: 0.6400\n",
      "Epoch 7/25\n",
      "8/8 [==============================] - 35s 4s/step - loss: 0.5782 - accuracy: 0.6978 - val_loss: 0.4898 - val_accuracy: 0.8000\n",
      "Epoch 8/25\n",
      "8/8 [==============================] - 28s 3s/step - loss: 0.5005 - accuracy: 0.7822 - val_loss: 0.3868 - val_accuracy: 0.8800\n",
      "Epoch 9/25\n",
      "8/8 [==============================] - 25s 4s/step - loss: 0.5163 - accuracy: 0.7600 - val_loss: 0.2917 - val_accuracy: 0.9200\n",
      "Epoch 10/25\n",
      "8/8 [==============================] - 33s 3s/step - loss: 0.4955 - accuracy: 0.7378 - val_loss: 0.3489 - val_accuracy: 0.8800\n",
      "Epoch 11/25\n",
      "8/8 [==============================] - 26s 3s/step - loss: 0.4331 - accuracy: 0.7733 - val_loss: 0.3217 - val_accuracy: 0.8800\n",
      "Epoch 12/25\n",
      "8/8 [==============================] - 22s 3s/step - loss: 0.3821 - accuracy: 0.8356 - val_loss: 0.1696 - val_accuracy: 0.9600\n",
      "Epoch 13/25\n",
      "8/8 [==============================] - 25s 3s/step - loss: 0.3454 - accuracy: 0.8400 - val_loss: 0.2676 - val_accuracy: 0.8400\n",
      "Epoch 14/25\n",
      "8/8 [==============================] - 23s 3s/step - loss: 0.3381 - accuracy: 0.8578 - val_loss: 0.1725 - val_accuracy: 0.9600\n",
      "Epoch 15/25\n",
      "8/8 [==============================] - 22s 3s/step - loss: 0.2426 - accuracy: 0.9022 - val_loss: 0.0984 - val_accuracy: 1.0000\n",
      "Epoch 16/25\n",
      "8/8 [==============================] - 29s 3s/step - loss: 0.1453 - accuracy: 0.9600 - val_loss: 0.0338 - val_accuracy: 1.0000\n",
      "Epoch 17/25\n",
      "8/8 [==============================] - 21s 2s/step - loss: 0.2140 - accuracy: 0.9333 - val_loss: 0.0438 - val_accuracy: 1.0000\n",
      "Epoch 18/25\n",
      "8/8 [==============================] - 19s 2s/step - loss: 0.1408 - accuracy: 0.9467 - val_loss: 0.0751 - val_accuracy: 1.0000\n",
      "Epoch 19/25\n",
      "8/8 [==============================] - 24s 3s/step - loss: 0.1274 - accuracy: 0.9511 - val_loss: 0.0284 - val_accuracy: 1.0000\n",
      "Epoch 20/25\n",
      "8/8 [==============================] - 28s 4s/step - loss: 0.1310 - accuracy: 0.9422 - val_loss: 0.0092 - val_accuracy: 1.0000\n",
      "Epoch 21/25\n",
      "8/8 [==============================] - 28s 3s/step - loss: 0.2852 - accuracy: 0.9111 - val_loss: 0.1964 - val_accuracy: 0.9600\n",
      "Epoch 22/25\n",
      "8/8 [==============================] - 21s 2s/step - loss: 0.6749 - accuracy: 0.7911 - val_loss: 0.3539 - val_accuracy: 0.8000\n",
      "Epoch 23/25\n",
      "8/8 [==============================] - 24s 2s/step - loss: 0.3478 - accuracy: 0.8800 - val_loss: 0.2196 - val_accuracy: 0.9600\n"
     ]
    }
   ],
   "source": [
    "history = model.fit(\n",
    "    train_generator,\n",
    "    validation_data = valid_generator,\n",
    "    epochs = 25,\n",
    "    callbacks = [model_checkpoint, early_stopping]    \n",
    ")"
   ]
  },
  {
   "cell_type": "code",
   "execution_count": 133,
   "metadata": {},
   "outputs": [
    {
     "data": {
      "image/png": "[encoded data removed]",
      "text/plain": [
       "<Figure size 432x288 with 1 Axes>"
      ]
     },
     "metadata": {
      "needs_background": "light"
     },
     "output_type": "display_data"
    }
   ],
   "source": [
    "plt.plot(history.history['accuracy'])\n",
    "plt.plot(history.history['val_accuracy'])\n",
    "plt.title('model accuracy')\n",
    "plt.ylabel('accuracy')\n",
    "plt.xlabel('epoch')\n",
    "plt.legend(['train', 'test'], loc='upper left')\n",
    "plt.show()"
   ]
  },
  {
   "cell_type": "code",
   "execution_count": 134,
   "metadata": {},
   "outputs": [],
   "source": [
    "sample_submission_df = pd.read_csv('sample_submission.csv', header = None)"
   ]
  },
  {
   "cell_type": "code",
   "execution_count": 135,
   "metadata": {},
   "outputs": [],
   "source": [
    "pred = []\n",
    "for image_id in sample_submission_df[0]:\n",
    "    img = Image.open(os.path.join(test_dir + '/' + image_id))\n",
    "    img = img.resize((300, 300))\n",
    "    img = np.expand_dims(img, axis = 0)\n",
    "    img = (img - 127.5) / 127.5\n",
    "    pred.append(np.round(model.predict(img)).astype(int).tolist())"
   ]
  },
  {
   "cell_type": "code",
   "execution_count": 136,
   "metadata": {},
   "outputs": [],
   "source": [
    "pred = np.ravel(pred)"
   ]
  },
  {
   "cell_type": "code",
   "execution_count": 137,
   "metadata": {},
   "outputs": [],
   "source": [
    "sample_submission_df[1] = pred\n",
    "sample_submission_df.to_csv('sample_submission.csv', header = None, index = None)"
   ]
  }
 ],
 "metadata": {
  "interpreter": {
   "hash": "4fcf79c33207d68f8e9e67e93bec9bc289b93b0566805e98bf31d2d063211adb"
  },
  "kernelspec": {
   "display_name": "Python 3.8.10 64-bit ('data': venv)",
   "language": "python",
   "name": "python3"
  },
  "language_info": {
   "codemirror_mode": {
    "name": "ipython",
    "version": 3
   },
   "file_extension": ".py",
   "mimetype": "text/x-python",
   "name": "python",
   "nbconvert_exporter": "python",
   "pygments_lexer": "ipython3",
   "version": "3.8.10"
  },
  "orig_nbformat": 4
 },
 "nbformat": 4,
 "nbformat_minor": 2
}
